{
 "cells": [
  {
   "cell_type": "code",
   "execution_count": 2,
   "metadata": {},
   "outputs": [
    {
     "name": "stdout",
     "output_type": "stream",
     "text": [
      "+--------------------+--------------------+--------------------+--------------------+-------------------+-------------------+------------------------+----+\n",
      "|        Company_Name|             Website|            Location|Minimum Project Size|Average Hourly Rate|Number of Employees|Percent AI Service Focus| _c7|\n",
      "+--------------------+--------------------+--------------------+--------------------+-------------------+-------------------+------------------------+----+\n",
      "|            Smith.ai|   https://smith.ai/|       Los Altos, CA|         Undisclosed|        Undisclosed|          250 - 999|                     10%|null|\n",
      "|             MooveIt|https://moove-it....|          Austin, TX|           $100,000+|     $50 - $99 / hr|           50 - 249|                     15%|null|\n",
      "|        TechSpeedInc|http://www.techsp...|        Portland, OR|             $1,000+|         < $25 / hr|           50 - 249|                     40%|null|\n",
      "|             WillDom|https://willdom.com/| Fort Lauderdale, FL|            $10,000+|     $50 - $99 / hr|          250 - 999|                     10%|null|\n",
      "|              Icreon|https://www.icreo...|        New York, NY|            $50,000+|   $100 - $149 / hr|          250 - 999|                     10%|null|\n",
      "|               ELEKS|   https://eleks.com|    Tallinn, Estonia|            $50,000+|     $50 - $99 / hr|      1,000 - 9,999|                     10%|null|\n",
      "|            Stepwise|https://www.stepw...|    Warszawa, Poland|           $100,000+|     $50 - $99 / hr|            10 - 49|                     20%|null|\n",
      "|           RevolveAI|https://www.revol...| Islamabad, Pakistan|            $10,000+|     $25 - $49 / hr|            10 - 49|                    100%|null|\n",
      "|            Develtio|http://www.develt...|    Warszawa, Poland|             $5,000+|     $25 - $49 / hr|           50 - 249|                     20%|null|\n",
      "|          JetRockets|http://jetrockets...|        Brooklyn, NY|            $25,000+|     $50 - $99 / hr|            10 - 49|                     10%|null|\n",
      "|              Sciant|http://www.sciant...|     Sofia, Bulgaria|            $10,000+|     $25 - $49 / hr|           50 - 249|                     10%|null|\n",
      "|             Dev.Pro|    https://dev.pro/|       Charlotte, NC|            $50,000+|     $50 - $99 / hr|          250 - 999|                     10%|null|\n",
      "|  YugasaSoftwareLabs|https://www.yugas...|     Gurugram, India|            $10,000+|         < $25 / hr|           50 - 249|                     10%|null|\n",
      "|        WorkingMouse|https://workingmo...|   Milton, Australia|            $50,000+|        Undisclosed|           50 - 249|                     10%|null|\n",
      "|             Springs|https://springsap...|       Kyiv, Ukraine|            $10,000+|     $25 - $49 / hr|           50 - 249|                     10%|null|\n",
      "|            AEStudio|  https://ae.studio/|     Los Angeles, CA|           $100,000+|   $200 - $300 / hr|           50 - 249|                     20%|null|\n",
      "|              Anadea|https://anadea.info/|Alicante (Alacant...|            $10,000+|     $50 - $99 / hr|           50 - 249|                     33%|null|\n",
      "|           MetalToad|https://www.metal...|     Los Angeles, CA|            $25,000+|   $150 - $199 / hr|            10 - 49|                     10%|null|\n",
      "|          TheAppLabb|https://theapplab...|     Toronto, Canada|            $50,000+|   $100 - $149 / hr|           50 - 249|                     15%|null|\n",
      "|CodewaveTechnologies|https://www.codew...|    Bengaluru, India|            $10,000+|         < $25 / hr|           50 - 249|                     11%|null|\n",
      "+--------------------+--------------------+--------------------+--------------------+-------------------+-------------------+------------------------+----+\n",
      "only showing top 20 rows\n",
      "\n"
     ]
    }
   ],
   "source": [
    "from pyspark.sql import SparkSession\n",
    "\n",
    "spark = SparkSession.builder \\\n",
    "            .appName(\"Data Transformation\") \\\n",
    "            .getOrCreate()\n",
    "\n",
    "read_df = spark.read \\\n",
    "            .format(\"csv\") \\\n",
    "            .option(\"header\",\"true\") \\\n",
    "            .option(\"inferschema\",\"true\") \\\n",
    "            .load(r\"C:\\Users\\rahmeds\\source\\My-Learning-Portfolio\\Coding-Adventures\\Pyspark\\Sample Data\\AI_Companies.csv\")\n",
    "\n",
    "read_df.show(20)\n"
   ]
  },
  {
   "cell_type": "code",
   "execution_count": 5,
   "metadata": {},
   "outputs": [
    {
     "name": "stdout",
     "output_type": "stream",
     "text": [
      "+--------------------+--------------------+--------------------+------------------+-----------------+-----------------+---------------------+----+\n",
      "|         CompanyName|             Website|            Location|MinimumProjectSize|AverageHourlyRate|NumberOfEmployees|PercentAIServiceFocus| _c7|\n",
      "+--------------------+--------------------+--------------------+------------------+-----------------+-----------------+---------------------+----+\n",
      "|            Smith.ai|   https://smith.ai/|       Los Altos, CA|       Undisclosed|      Undisclosed|        250 - 999|                  10%|null|\n",
      "|             MooveIt|https://moove-it....|          Austin, TX|         $100,000+|   $50 - $99 / hr|         50 - 249|                  15%|null|\n",
      "|        TechSpeedInc|http://www.techsp...|        Portland, OR|           $1,000+|       < $25 / hr|         50 - 249|                  40%|null|\n",
      "|             WillDom|https://willdom.com/| Fort Lauderdale, FL|          $10,000+|   $50 - $99 / hr|        250 - 999|                  10%|null|\n",
      "|              Icreon|https://www.icreo...|        New York, NY|          $50,000+| $100 - $149 / hr|        250 - 999|                  10%|null|\n",
      "|               ELEKS|   https://eleks.com|    Tallinn, Estonia|          $50,000+|   $50 - $99 / hr|    1,000 - 9,999|                  10%|null|\n",
      "|            Stepwise|https://www.stepw...|    Warszawa, Poland|         $100,000+|   $50 - $99 / hr|          10 - 49|                  20%|null|\n",
      "|           RevolveAI|https://www.revol...| Islamabad, Pakistan|          $10,000+|   $25 - $49 / hr|          10 - 49|                 100%|null|\n",
      "|            Develtio|http://www.develt...|    Warszawa, Poland|           $5,000+|   $25 - $49 / hr|         50 - 249|                  20%|null|\n",
      "|          JetRockets|http://jetrockets...|        Brooklyn, NY|          $25,000+|   $50 - $99 / hr|          10 - 49|                  10%|null|\n",
      "|              Sciant|http://www.sciant...|     Sofia, Bulgaria|          $10,000+|   $25 - $49 / hr|         50 - 249|                  10%|null|\n",
      "|             Dev.Pro|    https://dev.pro/|       Charlotte, NC|          $50,000+|   $50 - $99 / hr|        250 - 999|                  10%|null|\n",
      "|  YugasaSoftwareLabs|https://www.yugas...|     Gurugram, India|          $10,000+|       < $25 / hr|         50 - 249|                  10%|null|\n",
      "|        WorkingMouse|https://workingmo...|   Milton, Australia|          $50,000+|      Undisclosed|         50 - 249|                  10%|null|\n",
      "|             Springs|https://springsap...|       Kyiv, Ukraine|          $10,000+|   $25 - $49 / hr|         50 - 249|                  10%|null|\n",
      "|            AEStudio|  https://ae.studio/|     Los Angeles, CA|         $100,000+| $200 - $300 / hr|         50 - 249|                  20%|null|\n",
      "|              Anadea|https://anadea.info/|Alicante (Alacant...|          $10,000+|   $50 - $99 / hr|         50 - 249|                  33%|null|\n",
      "|           MetalToad|https://www.metal...|     Los Angeles, CA|          $25,000+| $150 - $199 / hr|          10 - 49|                  10%|null|\n",
      "|          TheAppLabb|https://theapplab...|     Toronto, Canada|          $50,000+| $100 - $149 / hr|         50 - 249|                  15%|null|\n",
      "|CodewaveTechnologies|https://www.codew...|    Bengaluru, India|          $10,000+|       < $25 / hr|         50 - 249|                  11%|null|\n",
      "+--------------------+--------------------+--------------------+------------------+-----------------+-----------------+---------------------+----+\n",
      "only showing top 20 rows\n",
      "\n"
     ]
    }
   ],
   "source": [
    "transformed_df = read_df \\\n",
    "                    .withColumnRenamed(\"Company_Name\",\"CompanyName\") \\\n",
    "                    .withColumnRenamed(\"Minimum Project Size\",\"MinimumProjectSize\") \\\n",
    "                    .withColumnRenamed(\"Average Hourly Rate\",\"AverageHourlyRate\") \\\n",
    "                    .withColumnRenamed(\"Number of Employees\",\"NumberOfEmployees\") \\\n",
    "                    .withColumnRenamed(\"Percent AI Service Focus\",\"PercentAIServiceFocus\")\n",
    "                    \n",
    "                    \n",
    "\n",
    "transformed_df.show(20)"
   ]
  }
 ],
 "metadata": {
  "kernelspec": {
   "display_name": "Python 3",
   "language": "python",
   "name": "python3"
  },
  "language_info": {
   "codemirror_mode": {
    "name": "ipython",
    "version": 3
   },
   "file_extension": ".py",
   "mimetype": "text/x-python",
   "name": "python",
   "nbconvert_exporter": "python",
   "pygments_lexer": "ipython3",
   "version": "3.8.9"
  }
 },
 "nbformat": 4,
 "nbformat_minor": 2
}
