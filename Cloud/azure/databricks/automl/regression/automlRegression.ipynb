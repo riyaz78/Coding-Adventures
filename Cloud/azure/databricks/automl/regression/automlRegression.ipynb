{
 "cells": [
  {
   "cell_type": "code",
   "execution_count": null,
   "metadata": {},
   "outputs": [],
   "source": [
    "from pyspark.sql.types import DoubleType, StringType, StructType, StructField\n",
    "\n",
    "schema = StructType([\n",
    "    StructField(\"longitude\", DoubleType(), True),\n",
    "    StructField(\"latitude\", DoubleType(), True),\n",
    "    StructField(\"housing_median_age\", DoubleType(), True),\n",
    "    StructField(\"total_rooms\", DoubleType(), True),\n",
    "    StructField(\"total_bedrooms\", DoubleType(), True),\n",
    "    StructField(\"population\", DoubleType(), True),\n",
    "    StructField(\"households\", DoubleType(), True),\n",
    "    StructField(\"median_income\", DoubleType(), True),\n",
    "    StructField(\"median_house_value\", DoubleType(), True),\n",
    "    StructField(\"ocean_proximity\", StringType(), True)\n",
    "    ])\n",
    "\n",
    "housing_df = spark.read.format(\"csv\").schema(schema).load(\"./housing.csv\")"
   ]
  }
 ],
 "metadata": {
  "language_info": {
   "name": "python"
  }
 },
 "nbformat": 4,
 "nbformat_minor": 2
}
